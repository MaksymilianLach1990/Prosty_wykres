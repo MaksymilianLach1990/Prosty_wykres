{
 "cells": [
  {
   "cell_type": "code",
   "execution_count": 1,
   "metadata": {
    "collapsed": true
   },
   "outputs": [],
   "source": [
    "import matplotlib.pyplot as plt\n",
    "import pandas as pd"
   ]
  },
  {
   "cell_type": "code",
   "execution_count": 17,
   "outputs": [],
   "source": [
    "# kurs = 1USD - 4PLN\n",
    "prices = [\n",
    "\t(1, 2.12),\n",
    "\t(2, 2.56),\n",
    "\t(3, 3.10),\n",
    "\t(4, 3.16),\n",
    "\t(5, 3.58),\n",
    "\t(6, 5.12),\n",
    "\t(7, 5.16),\n",
    "\t(8, 5.20),\n",
    "\t(9, 4.12),\n",
    "\t(10, 4.10),\n",
    "\t(11, 3.65),\n",
    "\t(12, 4.25),\n",
    "\n",
    "]"
   ],
   "metadata": {
    "collapsed": false,
    "pycharm": {
     "name": "#%%\n"
    }
   }
  },
  {
   "cell_type": "code",
   "execution_count": 19,
   "outputs": [
    {
     "data": {
      "text/plain": "       Price in PLN  Price in USD\nMonth                            \n1              2.12        0.5300\n2              2.56        0.6400\n3              3.10        0.7750\n4              3.16        0.7900\n5              3.58        0.8950\n6              5.12        1.2800\n7              5.16        1.2900\n8              5.20        1.3000\n9              4.12        1.0300\n10             4.10        1.0250\n11             3.65        0.9125\n12             4.25        1.0625",
      "text/html": "<div>\n<style scoped>\n    .dataframe tbody tr th:only-of-type {\n        vertical-align: middle;\n    }\n\n    .dataframe tbody tr th {\n        vertical-align: top;\n    }\n\n    .dataframe thead th {\n        text-align: right;\n    }\n</style>\n<table border=\"1\" class=\"dataframe\">\n  <thead>\n    <tr style=\"text-align: right;\">\n      <th></th>\n      <th>Price in PLN</th>\n      <th>Price in USD</th>\n    </tr>\n    <tr>\n      <th>Month</th>\n      <th></th>\n      <th></th>\n    </tr>\n  </thead>\n  <tbody>\n    <tr>\n      <th>1</th>\n      <td>2.12</td>\n      <td>0.5300</td>\n    </tr>\n    <tr>\n      <th>2</th>\n      <td>2.56</td>\n      <td>0.6400</td>\n    </tr>\n    <tr>\n      <th>3</th>\n      <td>3.10</td>\n      <td>0.7750</td>\n    </tr>\n    <tr>\n      <th>4</th>\n      <td>3.16</td>\n      <td>0.7900</td>\n    </tr>\n    <tr>\n      <th>5</th>\n      <td>3.58</td>\n      <td>0.8950</td>\n    </tr>\n    <tr>\n      <th>6</th>\n      <td>5.12</td>\n      <td>1.2800</td>\n    </tr>\n    <tr>\n      <th>7</th>\n      <td>5.16</td>\n      <td>1.2900</td>\n    </tr>\n    <tr>\n      <th>8</th>\n      <td>5.20</td>\n      <td>1.3000</td>\n    </tr>\n    <tr>\n      <th>9</th>\n      <td>4.12</td>\n      <td>1.0300</td>\n    </tr>\n    <tr>\n      <th>10</th>\n      <td>4.10</td>\n      <td>1.0250</td>\n    </tr>\n    <tr>\n      <th>11</th>\n      <td>3.65</td>\n      <td>0.9125</td>\n    </tr>\n    <tr>\n      <th>12</th>\n      <td>4.25</td>\n      <td>1.0625</td>\n    </tr>\n  </tbody>\n</table>\n</div>"
     },
     "execution_count": 19,
     "metadata": {},
     "output_type": "execute_result"
    }
   ],
   "source": [
    "prices_in_month = pd.DataFrame(prices, columns=['Month', 'Price in PLN'])\n",
    "prices_in_month = prices_in_month.set_index('Month')\n",
    "prices_in_month['Price in USD'] = prices_in_month['Price in PLN'].apply(lambda usd: usd / 4)\n",
    "prices_in_month"
   ],
   "metadata": {
    "collapsed": false,
    "pycharm": {
     "name": "#%%\n"
    }
   }
  },
  {
   "cell_type": "code",
   "execution_count": 27,
   "outputs": [
    {
     "data": {
      "text/plain": "[<matplotlib.lines.Line2D at 0x2280ea07f40>]"
     },
     "execution_count": 27,
     "metadata": {},
     "output_type": "execute_result"
    },
    {
     "data": {
      "text/plain": "<Figure size 432x288 with 1 Axes>",
      "image/png": "[encoded data removed]"
     },
     "metadata": {
      "needs_background": "light"
     },
     "output_type": "display_data"
    }
   ],
   "source": [
    "plt.title('Price of goods (USD')\n",
    "plt.xlabel('Month')\n",
    "plt.plot(prices_in_month.index, prices_in_month[\"Price in USD\"], \"r--\")\n"
   ],
   "metadata": {
    "collapsed": false,
    "pycharm": {
     "name": "#%%\n"
    }
   }
  }
 ],
 "metadata": {
  "kernelspec": {
   "display_name": "Python 3",
   "language": "python",
   "name": "python3"
  },
  "language_info": {
   "codemirror_mode": {
    "name": "ipython",
    "version": 2
   },
   "file_extension": ".py",
   "mimetype": "text/x-python",
   "name": "python",
   "nbconvert_exporter": "python",
   "pygments_lexer": "ipython2",
   "version": "2.7.6"
  }
 },
 "nbformat": 4,
 "nbformat_minor": 0
}